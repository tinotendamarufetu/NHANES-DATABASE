{
 "cells": [
  {
   "cell_type": "code",
   "execution_count": 1,
   "id": "f30500e9",
   "metadata": {},
   "outputs": [],
   "source": [
    "import os\n",
    "import requests\n",
    "from bs4 import BeautifulSoup"
   ]
  },
  {
   "cell_type": "code",
   "execution_count": 2,
   "id": "7770b492",
   "metadata": {},
   "outputs": [],
   "source": [
    "# URL of the NHANES Demographics data page\n",
    "url = \"https://wwwn.cdc.gov/nchs/nhanes/search/datapage.aspx?Component=Demographics\""
   ]
  },
  {
   "cell_type": "code",
   "execution_count": 3,
   "id": "cbff54cd",
   "metadata": {},
   "outputs": [],
   "source": [
    "# Directory to save the downloaded files\n",
    "directory = \"C:/Users/tinot/Downloads/WebScrappedFiles\""
   ]
  },
  {
   "cell_type": "code",
   "execution_count": 4,
   "id": "8195ef86",
   "metadata": {},
   "outputs": [],
   "source": [
    "# Create the directory if it doesn't exist\n",
    "os.makedirs(directory, exist_ok=True)"
   ]
  },
  {
   "cell_type": "code",
   "execution_count": 5,
   "id": "ee2a01dd",
   "metadata": {},
   "outputs": [],
   "source": [
    "# Send a request to the URL and get the HTML content\n",
    "response = requests.get(url)\n",
    "html_content = response.content"
   ]
  },
  {
   "cell_type": "code",
   "execution_count": 6,
   "id": "a78221d3",
   "metadata": {},
   "outputs": [],
   "source": [
    "# Parse the HTML content with BeautifulSoup\n",
    "soup = BeautifulSoup(html_content, \"html.parser\")"
   ]
  },
  {
   "cell_type": "code",
   "execution_count": 7,
   "id": "bdfc7607",
   "metadata": {},
   "outputs": [],
   "source": [
    "# Find all the links to .xpt files\n",
    "xpt_links = soup.find_all(\"a\", href=lambda href: href and href.endswith(\".XPT\"))"
   ]
  },
  {
   "cell_type": "code",
   "execution_count": 8,
   "id": "97ed5224",
   "metadata": {},
   "outputs": [
    {
     "name": "stdout",
     "output_type": "stream",
     "text": [
      "Downloaded DEMO_D.XPT\n",
      "Downloaded DEMO_E.XPT\n",
      "Downloaded DEMO_C.XPT\n",
      "Downloaded DEMO_B.XPT\n",
      "Downloaded DEMO.XPT\n",
      "Downloaded DEMO_F.XPT\n",
      "Downloaded DEMO_G.XPT\n",
      "Downloaded DEMO_H.XPT\n",
      "Downloaded DEMO_I.XPT\n",
      "Downloaded DEMO_J.XPT\n",
      "Downloaded P_DEMO.XPT\n"
     ]
    }
   ],
   "source": [
    "# Download each .xpt file\n",
    "for link in xpt_links:\n",
    "    file_url = \"https://wwwn.cdc.gov\" + link[\"href\"]\n",
    "    file_name = file_url.split(\"/\")[-1]\n",
    "    file_path = os.path.join(directory, file_name)\n",
    "\n",
    "    # Download the file\n",
    "    response = requests.get(file_url)\n",
    "    with open(file_path, \"wb\") as file:\n",
    "        file.write(response.content)\n",
    "\n",
    "    print(f\"Downloaded {file_name}\")"
   ]
  },
  {
   "cell_type": "code",
   "execution_count": null,
   "id": "fac4660c",
   "metadata": {},
   "outputs": [],
   "source": []
  }
 ],
 "metadata": {
  "kernelspec": {
   "display_name": "Python 3 (ipykernel)",
   "language": "python",
   "name": "python3"
  },
  "language_info": {
   "codemirror_mode": {
    "name": "ipython",
    "version": 3
   },
   "file_extension": ".py",
   "mimetype": "text/x-python",
   "name": "python",
   "nbconvert_exporter": "python",
   "pygments_lexer": "ipython3",
   "version": "3.11.7"
  }
 },
 "nbformat": 4,
 "nbformat_minor": 5
}
